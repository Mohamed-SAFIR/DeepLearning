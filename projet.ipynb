{
  "nbformat": 4,
  "nbformat_minor": 2,
  "metadata": {
    "colab": {
      "name": "Projet.ipynb",
      "provenance": [],
      "collapsed_sections": []
    },
    "kernelspec": {
      "name": "python3",
      "display_name": "Python 3"
    },
    "language_info": {
      "name": "python"
    }
  },
  "cells": [
    {
      "cell_type": "markdown",
      "source": [
        "***Bienvenue***"
      ],
      "metadata": {
        "id": "ZDfx_T5UTW1m"
      }
    },
    {
      "cell_type": "code",
      "execution_count": 2,
      "source": [
        "from google.colab import drive\n",
        "drive.mount('/content/drive')"
      ],
      "outputs": [
        {
          "output_type": "stream",
          "name": "stdout",
          "text": [
            "Mounted at /content/drive\n"
          ]
        }
      ],
      "metadata": {
        "colab": {
          "base_uri": "https://localhost:8080/"
        },
        "id": "pZNbsZDc0IVt",
        "outputId": "e2590a2e-2292-451f-ee69-6006ec131522"
      }
    },
    {
      "cell_type": "code",
      "execution_count": 2,
      "source": [
        "from zipfile import ZipFile\n",
        "import os\n",
        "from matplotlib import pyplot as plt\n",
        "from matplotlib.image import imread\n",
        "from PIL import Image\n",
        "import cv2\n",
        "from sklearn.utils import shuffle\n",
        "from sklearn.preprocessing import MinMaxScaler\n",
        "import tensorflow as tf\n",
        "import numpy as np\n",
        "import random\n",
        "import glob\n",
        "import shutil\n"
      ],
      "outputs": [],
      "metadata": {
        "id": "MW04WSEU0fFd"
      }
    },
    {
      "cell_type": "code",
      "execution_count": 3,
      "source": [
        "os.getcwd()"
      ],
      "outputs": [
        {
          "output_type": "execute_result",
          "data": {
            "application/vnd.google.colaboratory.intrinsic+json": {
              "type": "string"
            },
            "text/plain": [
              "'/content'"
            ]
          },
          "metadata": {},
          "execution_count": 3
        }
      ],
      "metadata": {
        "colab": {
          "base_uri": "https://localhost:8080/",
          "height": 35
        },
        "id": "ZQndpFjv0kFM",
        "outputId": "3f8710e7-39e6-4d4a-ef29-9c9aeeafab18"
      }
    },
    {
      "cell_type": "code",
      "execution_count": 4,
      "source": [
        "os.chdir('/content/drive/MyDrive/Images')"
      ],
      "outputs": [],
      "metadata": {
        "id": "jZ4sNX9E0kMv"
      }
    },
    {
      "cell_type": "code",
      "execution_count": 5,
      "source": [
        "os.getcwd()"
      ],
      "outputs": [
        {
          "output_type": "execute_result",
          "data": {
            "application/vnd.google.colaboratory.intrinsic+json": {
              "type": "string"
            },
            "text/plain": [
              "'/content/drive/MyDrive/Images'"
            ]
          },
          "metadata": {},
          "execution_count": 5
        }
      ],
      "metadata": {
        "colab": {
          "base_uri": "https://localhost:8080/",
          "height": 35
        },
        "id": "cX9UYzHA0kPo",
        "outputId": "f7994b84-b338-4e86-d334-af6cd2603000"
      }
    },
    {
      "cell_type": "markdown",
      "source": [],
      "metadata": {
        "id": "x6GSETTSTVeE"
      }
    },
    {
      "cell_type": "code",
      "execution_count": null,
      "source": [
        "for item in random.sample(glob.glob('/content/drive/MyDrive/Images/*'), 120):\n",
        "   glob_item = glob.glob(item+'/*')\n",
        "   valid_percent = int(len(glob_item) - len(glob_item) * 0.7) #take 30% of images\n",
        "   train_percent = int(len(glob_item) - len(glob_item) * 0.4) #take 60% of images\n",
        "   test_percent = len(glob_item) - valid_percent - train_percent #take 10% of images\n",
        "   breed_name = item.split('/')[5][10 : ]\n",
        "\n",
        "   receipt_folder = '/content/drive/MyDrive/validation/' + breed_name\n",
        "   os.makedirs(receipt_folder)\n",
        "   #  validation_filtered folder\n",
        "   for j in random.sample(glob.glob(item+'/*'), valid_percent):\n",
        "      shutil.copy(j, receipt_folder)\n",
        "\n",
        "   receipt_folder = '/content/drive/MyDrive/train/' + breed_name\n",
        "   os.makedirs(receipt_folder)\n",
        "   #    train_filtered folder\n",
        "   for k in random.sample(glob.glob(item+'/*'), train_percent):\n",
        "      shutil.copy(k, receipt_folder)\n",
        "\n",
        "   receipt_folder = '/content/drive/MyDrive/test/' +breed_name\n",
        "   os.makedirs(receipt_folder)\n",
        "   #    test_filtered folder\n",
        "   for k in random.sample(glob.glob(item+'/*'), test_percent):\n",
        "      shutil.copy(k, receipt_folder)\n",
        "\n"
      ],
      "outputs": [],
      "metadata": {}
    },
    {
      "cell_type": "code",
      "execution_count": null,
      "source": [],
      "outputs": [],
      "metadata": {}
    }
  ]
}